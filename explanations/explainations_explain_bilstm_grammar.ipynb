{
 "nbformat": 4,
 "nbformat_minor": 0,
 "metadata": {
  "kernelspec": {
   "display_name": "Python 3",
   "language": "python",
   "name": "python3"
  },
  "language_info": {
   "codemirror_mode": {
    "name": "ipython",
    "version": 2
   },
   "file_extension": ".py",
   "mimetype": "text/x-python",
   "name": "python",
   "nbconvert_exporter": "python",
   "pygments_lexer": "ipython2",
   "version": "2.7.6"
  },
  "colab": {
   "name": "explain_bilstm_grammar.ipynb",
   "provenance": []
  },
  "accelerator": "GPU",
  "widgets": {
   "application/vnd.jupyter.widget-state+json": {
    "427788c19f3447ada1ee76f422e717dd": {
     "model_module": "@jupyter-widgets/controls",
     "model_name": "HBoxModel",
     "state": {
      "_view_name": "HBoxView",
      "_dom_classes": [],
      "_model_name": "HBoxModel",
      "_view_module": "@jupyter-widgets/controls",
      "_model_module_version": "1.5.0",
      "_view_count": null,
      "_view_module_version": "1.5.0",
      "box_style": "",
      "layout": "IPY_MODEL_5b90541bcac24b51ba0908133392432b",
      "_model_module": "@jupyter-widgets/controls",
      "children": [
       "IPY_MODEL_0b7a072961414655881c3536ed04577e",
       "IPY_MODEL_28c13bdc835344d6bc884619cd225078"
      ]
     }
    },
    "5b90541bcac24b51ba0908133392432b": {
     "model_module": "@jupyter-widgets/base",
     "model_name": "LayoutModel",
     "state": {
      "_view_name": "LayoutView",
      "grid_template_rows": null,
      "right": null,
      "justify_content": null,
      "_view_module": "@jupyter-widgets/base",
      "overflow": null,
      "_model_module_version": "1.2.0",
      "_view_count": null,
      "flex_flow": null,
      "width": null,
      "min_width": null,
      "border": null,
      "align_items": null,
      "bottom": null,
      "_model_module": "@jupyter-widgets/base",
      "top": null,
      "grid_column": null,
      "overflow_y": null,
      "overflow_x": null,
      "grid_auto_flow": null,
      "grid_area": null,
      "grid_template_columns": null,
      "flex": null,
      "_model_name": "LayoutModel",
      "justify_items": null,
      "grid_row": null,
      "max_height": null,
      "align_content": null,
      "visibility": null,
      "align_self": null,
      "height": null,
      "min_height": null,
      "padding": null,
      "grid_auto_rows": null,
      "grid_gap": null,
      "max_width": null,
      "order": null,
      "_view_module_version": "1.2.0",
      "grid_template_areas": null,
      "object_position": null,
      "object_fit": null,
      "grid_auto_columns": null,
      "margin": null,
      "display": null,
      "left": null
     }
    },
    "0b7a072961414655881c3536ed04577e": {
     "model_module": "@jupyter-widgets/controls",
     "model_name": "FloatProgressModel",
     "state": {
      "_view_name": "ProgressView",
      "style": "IPY_MODEL_3652b75747234a04a0fc7266fb5b7bab",
      "_dom_classes": [],
      "description": "100%",
      "_model_name": "FloatProgressModel",
      "bar_style": "success",
      "max": 369,
      "_view_module": "@jupyter-widgets/controls",
      "_model_module_version": "1.5.0",
      "value": 369,
      "_view_count": null,
      "_view_module_version": "1.5.0",
      "orientation": "horizontal",
      "min": 0,
      "description_tooltip": null,
      "_model_module": "@jupyter-widgets/controls",
      "layout": "IPY_MODEL_ab635aa1f25548339e30a82a436cc7a6"
     }
    },
    "28c13bdc835344d6bc884619cd225078": {
     "model_module": "@jupyter-widgets/controls",
     "model_name": "HTMLModel",
     "state": {
      "_view_name": "HTMLView",
      "style": "IPY_MODEL_fb20695c761d4a0f9919bf3e36c5ad0c",
      "_dom_classes": [],
      "description": "",
      "_model_name": "HTMLModel",
      "placeholder": "​",
      "_view_module": "@jupyter-widgets/controls",
      "_model_module_version": "1.5.0",
      "value": " 369/369 [07:14&lt;00:00,  1.18s/it]",
      "_view_count": null,
      "_view_module_version": "1.5.0",
      "description_tooltip": null,
      "_model_module": "@jupyter-widgets/controls",
      "layout": "IPY_MODEL_381be98e03fc42b08140d42aacfc4745"
     }
    },
    "3652b75747234a04a0fc7266fb5b7bab": {
     "model_module": "@jupyter-widgets/controls",
     "model_name": "ProgressStyleModel",
     "state": {
      "_view_name": "StyleView",
      "_model_name": "ProgressStyleModel",
      "description_width": "initial",
      "_view_module": "@jupyter-widgets/base",
      "_model_module_version": "1.5.0",
      "_view_count": null,
      "_view_module_version": "1.2.0",
      "bar_color": null,
      "_model_module": "@jupyter-widgets/controls"
     }
    },
    "ab635aa1f25548339e30a82a436cc7a6": {
     "model_module": "@jupyter-widgets/base",
     "model_name": "LayoutModel",
     "state": {
      "_view_name": "LayoutView",
      "grid_template_rows": null,
      "right": null,
      "justify_content": null,
      "_view_module": "@jupyter-widgets/base",
      "overflow": null,
      "_model_module_version": "1.2.0",
      "_view_count": null,
      "flex_flow": null,
      "width": null,
      "min_width": null,
      "border": null,
      "align_items": null,
      "bottom": null,
      "_model_module": "@jupyter-widgets/base",
      "top": null,
      "grid_column": null,
      "overflow_y": null,
      "overflow_x": null,
      "grid_auto_flow": null,
      "grid_area": null,
      "grid_template_columns": null,
      "flex": null,
      "_model_name": "LayoutModel",
      "justify_items": null,
      "grid_row": null,
      "max_height": null,
      "align_content": null,
      "visibility": null,
      "align_self": null,
      "height": null,
      "min_height": null,
      "padding": null,
      "grid_auto_rows": null,
      "grid_gap": null,
      "max_width": null,
      "order": null,
      "_view_module_version": "1.2.0",
      "grid_template_areas": null,
      "object_position": null,
      "object_fit": null,
      "grid_auto_columns": null,
      "margin": null,
      "display": null,
      "left": null
     }
    },
    "fb20695c761d4a0f9919bf3e36c5ad0c": {
     "model_module": "@jupyter-widgets/controls",
     "model_name": "DescriptionStyleModel",
     "state": {
      "_view_name": "StyleView",
      "_model_name": "DescriptionStyleModel",
      "description_width": "",
      "_view_module": "@jupyter-widgets/base",
      "_model_module_version": "1.5.0",
      "_view_count": null,
      "_view_module_version": "1.2.0",
      "_model_module": "@jupyter-widgets/controls"
     }
    },
    "381be98e03fc42b08140d42aacfc4745": {
     "model_module": "@jupyter-widgets/base",
     "model_name": "LayoutModel",
     "state": {
      "_view_name": "LayoutView",
      "grid_template_rows": null,
      "right": null,
      "justify_content": null,
      "_view_module": "@jupyter-widgets/base",
      "overflow": null,
      "_model_module_version": "1.2.0",
      "_view_count": null,
      "flex_flow": null,
      "width": null,
      "min_width": null,
      "border": null,
      "align_items": null,
      "bottom": null,
      "_model_module": "@jupyter-widgets/base",
      "top": null,
      "grid_column": null,
      "overflow_y": null,
      "overflow_x": null,
      "grid_auto_flow": null,
      "grid_area": null,
      "grid_template_columns": null,
      "flex": null,
      "_model_name": "LayoutModel",
      "justify_items": null,
      "grid_row": null,
      "max_height": null,
      "align_content": null,
      "visibility": null,
      "align_self": null,
      "height": null,
      "min_height": null,
      "padding": null,
      "grid_auto_rows": null,
      "grid_gap": null,
      "max_width": null,
      "order": null,
      "_view_module_version": "1.2.0",
      "grid_template_areas": null,
      "object_position": null,
      "object_fit": null,
      "grid_auto_columns": null,
      "margin": null,
      "display": null,
      "left": null
     }
    }
   }
  }
 },
 "cells": [
  {
   "cell_type": "markdown",
   "metadata": {
    "id": "kgsTBVyLTmrl"
   },
   "source": [
    "## **Environment setup to run the notebook**\n",
    "We assume that this notebook will be run on google colab. In order to run this notebook, the following steps have to be performed:\n",
    "\n",
    "\n",
    "1.   Please make sure your google drive has the following [file](https://drive.google.com/file/d/1QWY78l6kVKk6YE3kT21IVt6N0yNBXIBL/view?usp=sharing) and the [model](https://gitlab.lrz.de/xai-lab-ws2021/edoardo/beyond-simple-word-level-input-relevance-explanations-team-2/-/blob/master/model_weights/grammar_bilstm.p)\n",
    "2.   Please create the directory '*preprocessing*' and upload [grammar_preprocessing.py](https://gitlab.lrz.de/xai-lab-ws2021/edoardo/beyond-simple-word-level-input-relevance-explanations-team-2/-/blob/master/preprocessing/grammar_preprocessing.py). Please create a directory named '*utils*' and upload the file [utils.py](https://gitlab.lrz.de/xai-lab-ws2021/edoardo/beyond-simple-word-level-input-relevance-explanations-team-2/-/blob/master/utils/util.py).\n",
    "\n",
    "Once the above setup is done each cell can be run one by one. Please note that your google drive will be mounted to the colab instance. Once the notebook has completed running, we pickle the explainer which will be used for explanations.\n",
    "\n"
   ]
  },
  {
   "cell_type": "code",
   "metadata": {
    "collapsed": true,
    "colab": {
     "base_uri": "https://localhost:8080/"
    },
    "id": "TxmlxHeOGfiM",
    "outputId": "f2feb93c-b7ef-4c13-836a-86feebbfd494"
   },
   "source": [
    "from google.colab import drive\n",
    "drive.mount('/content/drive')"
   ],
   "execution_count": null,
   "outputs": [
    {
     "output_type": "stream",
     "text": [
      "Mounted at /content/drive\n"
     ],
     "name": "stdout"
    }
   ]
  },
  {
   "cell_type": "code",
   "metadata": {
    "pycharm": {
     "name": "#%%\n"
    },
    "colab": {
     "base_uri": "https://localhost:8080/"
    },
    "id": "tJyyfkitGfiR",
    "outputId": "eb6e530f-c316-49c9-aa71-f58cc528563b"
   },
   "source": [
    "!unzip '/content/drive/MyDrive/data.zip'"
   ],
   "execution_count": null,
   "outputs": [
    {
     "output_type": "stream",
     "text": [
      "Archive:  /content/drive/MyDrive/data.zip\n",
      "   creating: data/\n",
      "  inflating: data/fields             \n",
      "  inflating: data/train_data         \n",
      "  inflating: data/vocab              \n",
      "  inflating: data/test_data          \n",
      "  inflating: data/label              \n",
      "  inflating: data/val_data           \n"
     ],
     "name": "stdout"
    }
   ]
  },
  {
   "cell_type": "code",
   "metadata": {
    "pycharm": {
     "name": "#%%\n"
    },
    "id": "Rg6mYG59GfiT",
    "colab": {
     "base_uri": "https://localhost:8080/"
    },
    "outputId": "e21e7cc9-4385-44c1-bd6a-6aaf3a49fdca"
   },
   "source": [
    "!pip install shap"
   ],
   "execution_count": null,
   "outputs": [
    {
     "output_type": "stream",
     "text": [
      "Collecting shap\n",
      "\u001B[?25l  Downloading https://files.pythonhosted.org/packages/44/20/54381999efe3000f70a7f68af79ba857cfa3f82278ab0e02e6ba1c06b002/shap-0.38.1.tar.gz (352kB)\n",
      "\r\u001B[K     |█                               | 10kB 26.4MB/s eta 0:00:01\r\u001B[K     |█▉                              | 20kB 29.7MB/s eta 0:00:01\r\u001B[K     |██▉                             | 30kB 21.8MB/s eta 0:00:01\r\u001B[K     |███▊                            | 40kB 19.9MB/s eta 0:00:01\r\u001B[K     |████▋                           | 51kB 22.2MB/s eta 0:00:01\r\u001B[K     |█████▋                          | 61kB 19.1MB/s eta 0:00:01\r\u001B[K     |██████▌                         | 71kB 18.8MB/s eta 0:00:01\r\u001B[K     |███████▍                        | 81kB 19.2MB/s eta 0:00:01\r\u001B[K     |████████▍                       | 92kB 16.2MB/s eta 0:00:01\r\u001B[K     |█████████▎                      | 102kB 17.0MB/s eta 0:00:01\r\u001B[K     |██████████▎                     | 112kB 17.0MB/s eta 0:00:01\r\u001B[K     |███████████▏                    | 122kB 17.0MB/s eta 0:00:01\r\u001B[K     |████████████                    | 133kB 17.0MB/s eta 0:00:01\r\u001B[K     |█████████████                   | 143kB 17.0MB/s eta 0:00:01\r\u001B[K     |██████████████                  | 153kB 17.0MB/s eta 0:00:01\r\u001B[K     |██████████████▉                 | 163kB 17.0MB/s eta 0:00:01\r\u001B[K     |███████████████▉                | 174kB 17.0MB/s eta 0:00:01\r\u001B[K     |████████████████▊               | 184kB 17.0MB/s eta 0:00:01\r\u001B[K     |█████████████████▊              | 194kB 17.0MB/s eta 0:00:01\r\u001B[K     |██████████████████▋             | 204kB 17.0MB/s eta 0:00:01\r\u001B[K     |███████████████████▌            | 215kB 17.0MB/s eta 0:00:01\r\u001B[K     |████████████████████▌           | 225kB 17.0MB/s eta 0:00:01\r\u001B[K     |█████████████████████▍          | 235kB 17.0MB/s eta 0:00:01\r\u001B[K     |██████████████████████▎         | 245kB 17.0MB/s eta 0:00:01\r\u001B[K     |███████████████████████▎        | 256kB 17.0MB/s eta 0:00:01\r\u001B[K     |████████████████████████▏       | 266kB 17.0MB/s eta 0:00:01\r\u001B[K     |█████████████████████████       | 276kB 17.0MB/s eta 0:00:01\r\u001B[K     |██████████████████████████      | 286kB 17.0MB/s eta 0:00:01\r\u001B[K     |███████████████████████████     | 296kB 17.0MB/s eta 0:00:01\r\u001B[K     |████████████████████████████    | 307kB 17.0MB/s eta 0:00:01\r\u001B[K     |████████████████████████████▉   | 317kB 17.0MB/s eta 0:00:01\r\u001B[K     |█████████████████████████████▊  | 327kB 17.0MB/s eta 0:00:01\r\u001B[K     |██████████████████████████████▊ | 337kB 17.0MB/s eta 0:00:01\r\u001B[K     |███████████████████████████████▋| 348kB 17.0MB/s eta 0:00:01\r\u001B[K     |████████████████████████████████| 358kB 17.0MB/s \n",
      "\u001B[?25hRequirement already satisfied: numpy in /usr/local/lib/python3.6/dist-packages (from shap) (1.19.5)\n",
      "Requirement already satisfied: scipy in /usr/local/lib/python3.6/dist-packages (from shap) (1.4.1)\n",
      "Requirement already satisfied: scikit-learn in /usr/local/lib/python3.6/dist-packages (from shap) (0.22.2.post1)\n",
      "Requirement already satisfied: pandas in /usr/local/lib/python3.6/dist-packages (from shap) (1.1.5)\n",
      "Requirement already satisfied: tqdm>4.25.0 in /usr/local/lib/python3.6/dist-packages (from shap) (4.41.1)\n",
      "Collecting slicer==0.0.7\n",
      "  Downloading https://files.pythonhosted.org/packages/78/c2/b3f55dfdb8af9812fdb9baf70cacf3b9e82e505b2bd4324d588888b81202/slicer-0.0.7-py3-none-any.whl\n",
      "Requirement already satisfied: numba in /usr/local/lib/python3.6/dist-packages (from shap) (0.51.2)\n",
      "Requirement already satisfied: cloudpickle in /usr/local/lib/python3.6/dist-packages (from shap) (1.3.0)\n",
      "Requirement already satisfied: joblib>=0.11 in /usr/local/lib/python3.6/dist-packages (from scikit-learn->shap) (1.0.0)\n",
      "Requirement already satisfied: python-dateutil>=2.7.3 in /usr/local/lib/python3.6/dist-packages (from pandas->shap) (2.8.1)\n",
      "Requirement already satisfied: pytz>=2017.2 in /usr/local/lib/python3.6/dist-packages (from pandas->shap) (2018.9)\n",
      "Requirement already satisfied: llvmlite<0.35,>=0.34.0.dev0 in /usr/local/lib/python3.6/dist-packages (from numba->shap) (0.34.0)\n",
      "Requirement already satisfied: setuptools in /usr/local/lib/python3.6/dist-packages (from numba->shap) (53.0.0)\n",
      "Requirement already satisfied: six>=1.5 in /usr/local/lib/python3.6/dist-packages (from python-dateutil>=2.7.3->pandas->shap) (1.15.0)\n",
      "Building wheels for collected packages: shap\n",
      "  Building wheel for shap (setup.py) ... \u001B[?25l\u001B[?25hdone\n",
      "  Created wheel for shap: filename=shap-0.38.1-cp36-cp36m-linux_x86_64.whl size=489391 sha256=c7503fdc19f359dbf72e56f9ece63f1a322f1076ae6d65fcd45ef3f73a079cf8\n",
      "  Stored in directory: /root/.cache/pip/wheels/a8/fb/e4/88012be41842b9be62ae18d82d1b1e880daf8539d1fef1fa00\n",
      "Successfully built shap\n",
      "Installing collected packages: slicer, shap\n",
      "Successfully installed shap-0.38.1 slicer-0.0.7\n"
     ],
     "name": "stdout"
    }
   ]
  },
  {
   "cell_type": "code",
   "metadata": {
    "id": "BLAwgo_gHP43",
    "colab": {
     "base_uri": "https://localhost:8080/"
    },
    "outputId": "fb2de93b-1683-4a26-9f27-b49ee672cffa"
   },
   "source": [
    "!pip install pytorch_lightning "
   ],
   "execution_count": null,
   "outputs": [
    {
     "output_type": "stream",
     "text": [
      "Collecting pytorch_lightning\n",
      "\u001B[?25l  Downloading https://files.pythonhosted.org/packages/c2/dd/0c326da04e021a9849a1e75dd639d8c2e22d3abb296a9fc39bed518d2879/pytorch_lightning-1.1.7-py3-none-any.whl (695kB)\n",
      "\r\u001B[K     |▌                               | 10kB 23.7MB/s eta 0:00:01\r\u001B[K     |█                               | 20kB 31.1MB/s eta 0:00:01\r\u001B[K     |█▍                              | 30kB 21.8MB/s eta 0:00:01\r\u001B[K     |█▉                              | 40kB 20.0MB/s eta 0:00:01\r\u001B[K     |██▍                             | 51kB 21.1MB/s eta 0:00:01\r\u001B[K     |██▉                             | 61kB 15.9MB/s eta 0:00:01\r\u001B[K     |███▎                            | 71kB 16.3MB/s eta 0:00:01\r\u001B[K     |███▊                            | 81kB 17.0MB/s eta 0:00:01\r\u001B[K     |████▎                           | 92kB 15.1MB/s eta 0:00:01\r\u001B[K     |████▊                           | 102kB 16.3MB/s eta 0:00:01\r\u001B[K     |█████▏                          | 112kB 16.3MB/s eta 0:00:01\r\u001B[K     |█████▋                          | 122kB 16.3MB/s eta 0:00:01\r\u001B[K     |██████▏                         | 133kB 16.3MB/s eta 0:00:01\r\u001B[K     |██████▋                         | 143kB 16.3MB/s eta 0:00:01\r\u001B[K     |███████                         | 153kB 16.3MB/s eta 0:00:01\r\u001B[K     |███████▌                        | 163kB 16.3MB/s eta 0:00:01\r\u001B[K     |████████                        | 174kB 16.3MB/s eta 0:00:01\r\u001B[K     |████████▌                       | 184kB 16.3MB/s eta 0:00:01\r\u001B[K     |█████████                       | 194kB 16.3MB/s eta 0:00:01\r\u001B[K     |█████████▍                      | 204kB 16.3MB/s eta 0:00:01\r\u001B[K     |██████████                      | 215kB 16.3MB/s eta 0:00:01\r\u001B[K     |██████████▍                     | 225kB 16.3MB/s eta 0:00:01\r\u001B[K     |██████████▉                     | 235kB 16.3MB/s eta 0:00:01\r\u001B[K     |███████████▎                    | 245kB 16.3MB/s eta 0:00:01\r\u001B[K     |███████████▉                    | 256kB 16.3MB/s eta 0:00:01\r\u001B[K     |████████████▎                   | 266kB 16.3MB/s eta 0:00:01\r\u001B[K     |████████████▊                   | 276kB 16.3MB/s eta 0:00:01\r\u001B[K     |█████████████▏                  | 286kB 16.3MB/s eta 0:00:01\r\u001B[K     |█████████████▊                  | 296kB 16.3MB/s eta 0:00:01\r\u001B[K     |██████████████▏                 | 307kB 16.3MB/s eta 0:00:01\r\u001B[K     |██████████████▋                 | 317kB 16.3MB/s eta 0:00:01\r\u001B[K     |███████████████                 | 327kB 16.3MB/s eta 0:00:01\r\u001B[K     |███████████████▌                | 337kB 16.3MB/s eta 0:00:01\r\u001B[K     |████████████████                | 348kB 16.3MB/s eta 0:00:01\r\u001B[K     |████████████████▌               | 358kB 16.3MB/s eta 0:00:01\r\u001B[K     |█████████████████               | 368kB 16.3MB/s eta 0:00:01\r\u001B[K     |█████████████████▍              | 378kB 16.3MB/s eta 0:00:01\r\u001B[K     |██████████████████              | 389kB 16.3MB/s eta 0:00:01\r\u001B[K     |██████████████████▍             | 399kB 16.3MB/s eta 0:00:01\r\u001B[K     |██████████████████▉             | 409kB 16.3MB/s eta 0:00:01\r\u001B[K     |███████████████████▎            | 419kB 16.3MB/s eta 0:00:01\r\u001B[K     |███████████████████▉            | 430kB 16.3MB/s eta 0:00:01\r\u001B[K     |████████████████████▎           | 440kB 16.3MB/s eta 0:00:01\r\u001B[K     |████████████████████▊           | 450kB 16.3MB/s eta 0:00:01\r\u001B[K     |█████████████████████▏          | 460kB 16.3MB/s eta 0:00:01\r\u001B[K     |█████████████████████▊          | 471kB 16.3MB/s eta 0:00:01\r\u001B[K     |██████████████████████▏         | 481kB 16.3MB/s eta 0:00:01\r\u001B[K     |██████████████████████▋         | 491kB 16.3MB/s eta 0:00:01\r\u001B[K     |███████████████████████         | 501kB 16.3MB/s eta 0:00:01\r\u001B[K     |███████████████████████▋        | 512kB 16.3MB/s eta 0:00:01\r\u001B[K     |████████████████████████        | 522kB 16.3MB/s eta 0:00:01\r\u001B[K     |████████████████████████▌       | 532kB 16.3MB/s eta 0:00:01\r\u001B[K     |█████████████████████████       | 542kB 16.3MB/s eta 0:00:01\r\u001B[K     |█████████████████████████▌      | 552kB 16.3MB/s eta 0:00:01\r\u001B[K     |██████████████████████████      | 563kB 16.3MB/s eta 0:00:01\r\u001B[K     |██████████████████████████▍     | 573kB 16.3MB/s eta 0:00:01\r\u001B[K     |██████████████████████████▉     | 583kB 16.3MB/s eta 0:00:01\r\u001B[K     |███████████████████████████▍    | 593kB 16.3MB/s eta 0:00:01\r\u001B[K     |███████████████████████████▉    | 604kB 16.3MB/s eta 0:00:01\r\u001B[K     |████████████████████████████▎   | 614kB 16.3MB/s eta 0:00:01\r\u001B[K     |████████████████████████████▊   | 624kB 16.3MB/s eta 0:00:01\r\u001B[K     |█████████████████████████████▎  | 634kB 16.3MB/s eta 0:00:01\r\u001B[K     |█████████████████████████████▊  | 645kB 16.3MB/s eta 0:00:01\r\u001B[K     |██████████████████████████████▏ | 655kB 16.3MB/s eta 0:00:01\r\u001B[K     |██████████████████████████████▋ | 665kB 16.3MB/s eta 0:00:01\r\u001B[K     |███████████████████████████████ | 675kB 16.3MB/s eta 0:00:01\r\u001B[K     |███████████████████████████████▋| 686kB 16.3MB/s eta 0:00:01\r\u001B[K     |████████████████████████████████| 696kB 16.3MB/s \n",
      "\u001B[?25hRequirement already satisfied: torch>=1.3 in /usr/local/lib/python3.6/dist-packages (from pytorch_lightning) (1.7.0+cu101)\n",
      "Collecting fsspec[http]>=0.8.1\n",
      "\u001B[?25l  Downloading https://files.pythonhosted.org/packages/ec/80/72ac0982cc833945fada4b76c52f0f65435ba4d53bc9317d1c70b5f7e7d5/fsspec-0.8.5-py3-none-any.whl (98kB)\n",
      "\u001B[K     |████████████████████████████████| 102kB 14.9MB/s \n",
      "\u001B[?25hRequirement already satisfied: tqdm>=4.41.0 in /usr/local/lib/python3.6/dist-packages (from pytorch_lightning) (4.41.1)\n",
      "Collecting PyYAML!=5.4.*,>=5.1\n",
      "\u001B[?25l  Downloading https://files.pythonhosted.org/packages/64/c2/b80047c7ac2478f9501676c988a5411ed5572f35d1beff9cae07d321512c/PyYAML-5.3.1.tar.gz (269kB)\n",
      "\u001B[K     |████████████████████████████████| 276kB 58.8MB/s \n",
      "\u001B[?25hCollecting future>=0.17.1\n",
      "\u001B[?25l  Downloading https://files.pythonhosted.org/packages/45/0b/38b06fd9b92dc2b68d58b75f900e97884c45bedd2ff83203d933cf5851c9/future-0.18.2.tar.gz (829kB)\n",
      "\u001B[K     |████████████████████████████████| 829kB 52.8MB/s \n",
      "\u001B[?25hRequirement already satisfied: numpy>=1.16.6 in /usr/local/lib/python3.6/dist-packages (from pytorch_lightning) (1.19.5)\n",
      "Requirement already satisfied: tensorboard>=2.2.0 in /usr/local/lib/python3.6/dist-packages (from pytorch_lightning) (2.4.1)\n",
      "Requirement already satisfied: dataclasses in /usr/local/lib/python3.6/dist-packages (from torch>=1.3->pytorch_lightning) (0.8)\n",
      "Requirement already satisfied: typing-extensions in /usr/local/lib/python3.6/dist-packages (from torch>=1.3->pytorch_lightning) (3.7.4.3)\n",
      "Collecting aiohttp; extra == \"http\"\n",
      "\u001B[?25l  Downloading https://files.pythonhosted.org/packages/ad/e6/d4b6235d776c9b33f853e603efede5aac5a34f71ca9d3877adb30492eb4e/aiohttp-3.7.3-cp36-cp36m-manylinux2014_x86_64.whl (1.3MB)\n",
      "\u001B[K     |████████████████████████████████| 1.3MB 46.1MB/s \n",
      "\u001B[?25hRequirement already satisfied: requests; extra == \"http\" in /usr/local/lib/python3.6/dist-packages (from fsspec[http]>=0.8.1->pytorch_lightning) (2.23.0)\n",
      "Requirement already satisfied: werkzeug>=0.11.15 in /usr/local/lib/python3.6/dist-packages (from tensorboard>=2.2.0->pytorch_lightning) (1.0.1)\n",
      "Requirement already satisfied: setuptools>=41.0.0 in /usr/local/lib/python3.6/dist-packages (from tensorboard>=2.2.0->pytorch_lightning) (53.0.0)\n",
      "Requirement already satisfied: six>=1.10.0 in /usr/local/lib/python3.6/dist-packages (from tensorboard>=2.2.0->pytorch_lightning) (1.15.0)\n",
      "Requirement already satisfied: markdown>=2.6.8 in /usr/local/lib/python3.6/dist-packages (from tensorboard>=2.2.0->pytorch_lightning) (3.3.3)\n",
      "Requirement already satisfied: tensorboard-plugin-wit>=1.6.0 in /usr/local/lib/python3.6/dist-packages (from tensorboard>=2.2.0->pytorch_lightning) (1.8.0)\n",
      "Requirement already satisfied: absl-py>=0.4 in /usr/local/lib/python3.6/dist-packages (from tensorboard>=2.2.0->pytorch_lightning) (0.10.0)\n",
      "Requirement already satisfied: grpcio>=1.24.3 in /usr/local/lib/python3.6/dist-packages (from tensorboard>=2.2.0->pytorch_lightning) (1.32.0)\n",
      "Requirement already satisfied: wheel>=0.26; python_version >= \"3\" in /usr/local/lib/python3.6/dist-packages (from tensorboard>=2.2.0->pytorch_lightning) (0.36.2)\n",
      "Requirement already satisfied: google-auth-oauthlib<0.5,>=0.4.1 in /usr/local/lib/python3.6/dist-packages (from tensorboard>=2.2.0->pytorch_lightning) (0.4.2)\n",
      "Requirement already satisfied: protobuf>=3.6.0 in /usr/local/lib/python3.6/dist-packages (from tensorboard>=2.2.0->pytorch_lightning) (3.12.4)\n",
      "Requirement already satisfied: google-auth<2,>=1.6.3 in /usr/local/lib/python3.6/dist-packages (from tensorboard>=2.2.0->pytorch_lightning) (1.24.0)\n",
      "Requirement already satisfied: chardet<4.0,>=2.0 in /usr/local/lib/python3.6/dist-packages (from aiohttp; extra == \"http\"->fsspec[http]>=0.8.1->pytorch_lightning) (3.0.4)\n",
      "Collecting async-timeout<4.0,>=3.0\n",
      "  Downloading https://files.pythonhosted.org/packages/e1/1e/5a4441be21b0726c4464f3f23c8b19628372f606755a9d2e46c187e65ec4/async_timeout-3.0.1-py3-none-any.whl\n",
      "Collecting multidict<7.0,>=4.5\n",
      "\u001B[?25l  Downloading https://files.pythonhosted.org/packages/a1/35/b22524d6b9cacfb4c5eff413a069bbc17c6ea628e54da5c6c989998ced5f/multidict-5.1.0-cp36-cp36m-manylinux2014_x86_64.whl (141kB)\n",
      "\u001B[K     |████████████████████████████████| 143kB 50.7MB/s \n",
      "\u001B[?25hCollecting yarl<2.0,>=1.0\n",
      "\u001B[?25l  Downloading https://files.pythonhosted.org/packages/da/08/52b26b44bce7b818b410aee37c5e424c9ea420c557bca97dc2adac29b151/yarl-1.6.3-cp36-cp36m-manylinux2014_x86_64.whl (293kB)\n",
      "\u001B[K     |████████████████████████████████| 296kB 57.1MB/s \n",
      "\u001B[?25hRequirement already satisfied: attrs>=17.3.0 in /usr/local/lib/python3.6/dist-packages (from aiohttp; extra == \"http\"->fsspec[http]>=0.8.1->pytorch_lightning) (20.3.0)\n",
      "Collecting idna-ssl>=1.0; python_version < \"3.7\"\n",
      "  Downloading https://files.pythonhosted.org/packages/46/03/07c4894aae38b0de52b52586b24bf189bb83e4ddabfe2e2c8f2419eec6f4/idna-ssl-1.1.0.tar.gz\n",
      "Requirement already satisfied: urllib3!=1.25.0,!=1.25.1,<1.26,>=1.21.1 in /usr/local/lib/python3.6/dist-packages (from requests; extra == \"http\"->fsspec[http]>=0.8.1->pytorch_lightning) (1.24.3)\n",
      "Requirement already satisfied: certifi>=2017.4.17 in /usr/local/lib/python3.6/dist-packages (from requests; extra == \"http\"->fsspec[http]>=0.8.1->pytorch_lightning) (2020.12.5)\n",
      "Requirement already satisfied: idna<3,>=2.5 in /usr/local/lib/python3.6/dist-packages (from requests; extra == \"http\"->fsspec[http]>=0.8.1->pytorch_lightning) (2.10)\n",
      "Requirement already satisfied: importlib-metadata; python_version < \"3.8\" in /usr/local/lib/python3.6/dist-packages (from markdown>=2.6.8->tensorboard>=2.2.0->pytorch_lightning) (3.4.0)\n",
      "Requirement already satisfied: requests-oauthlib>=0.7.0 in /usr/local/lib/python3.6/dist-packages (from google-auth-oauthlib<0.5,>=0.4.1->tensorboard>=2.2.0->pytorch_lightning) (1.3.0)\n",
      "Requirement already satisfied: rsa<5,>=3.1.4; python_version >= \"3.6\" in /usr/local/lib/python3.6/dist-packages (from google-auth<2,>=1.6.3->tensorboard>=2.2.0->pytorch_lightning) (4.7)\n",
      "Requirement already satisfied: pyasn1-modules>=0.2.1 in /usr/local/lib/python3.6/dist-packages (from google-auth<2,>=1.6.3->tensorboard>=2.2.0->pytorch_lightning) (0.2.8)\n",
      "Requirement already satisfied: cachetools<5.0,>=2.0.0 in /usr/local/lib/python3.6/dist-packages (from google-auth<2,>=1.6.3->tensorboard>=2.2.0->pytorch_lightning) (4.2.1)\n",
      "Requirement already satisfied: zipp>=0.5 in /usr/local/lib/python3.6/dist-packages (from importlib-metadata; python_version < \"3.8\"->markdown>=2.6.8->tensorboard>=2.2.0->pytorch_lightning) (3.4.0)\n",
      "Requirement already satisfied: oauthlib>=3.0.0 in /usr/local/lib/python3.6/dist-packages (from requests-oauthlib>=0.7.0->google-auth-oauthlib<0.5,>=0.4.1->tensorboard>=2.2.0->pytorch_lightning) (3.1.0)\n",
      "Requirement already satisfied: pyasn1>=0.1.3 in /usr/local/lib/python3.6/dist-packages (from rsa<5,>=3.1.4; python_version >= \"3.6\"->google-auth<2,>=1.6.3->tensorboard>=2.2.0->pytorch_lightning) (0.4.8)\n",
      "Building wheels for collected packages: PyYAML, future, idna-ssl\n",
      "  Building wheel for PyYAML (setup.py) ... \u001B[?25l\u001B[?25hdone\n",
      "  Created wheel for PyYAML: filename=PyYAML-5.3.1-cp36-cp36m-linux_x86_64.whl size=44621 sha256=0e5a0548f030fd14116265cd4401d254a1ff64e66bf7e860277446ebfe9a88d2\n",
      "  Stored in directory: /root/.cache/pip/wheels/a7/c1/ea/cf5bd31012e735dc1dfea3131a2d5eae7978b251083d6247bd\n",
      "  Building wheel for future (setup.py) ... \u001B[?25l\u001B[?25hdone\n",
      "  Created wheel for future: filename=future-0.18.2-cp36-none-any.whl size=491057 sha256=7cfb3a074506e4a067f12d4bc78d2e980766cb40b49ba1273534301ff4e926e7\n",
      "  Stored in directory: /root/.cache/pip/wheels/8b/99/a0/81daf51dcd359a9377b110a8a886b3895921802d2fc1b2397e\n",
      "  Building wheel for idna-ssl (setup.py) ... \u001B[?25l\u001B[?25hdone\n",
      "  Created wheel for idna-ssl: filename=idna_ssl-1.1.0-cp36-none-any.whl size=3163 sha256=28449d7415e62abeff3b91780f2a31519bd5b2652d222ecc9693088f6f892453\n",
      "  Stored in directory: /root/.cache/pip/wheels/d3/00/b3/32d613e19e08a739751dd6bf998cfed277728f8b2127ad4eb7\n",
      "Successfully built PyYAML future idna-ssl\n",
      "Installing collected packages: async-timeout, multidict, yarl, idna-ssl, aiohttp, fsspec, PyYAML, future, pytorch-lightning\n",
      "  Found existing installation: PyYAML 3.13\n",
      "    Uninstalling PyYAML-3.13:\n",
      "      Successfully uninstalled PyYAML-3.13\n",
      "  Found existing installation: future 0.16.0\n",
      "    Uninstalling future-0.16.0:\n",
      "      Successfully uninstalled future-0.16.0\n",
      "Successfully installed PyYAML-5.3.1 aiohttp-3.7.3 async-timeout-3.0.1 fsspec-0.8.5 future-0.18.2 idna-ssl-1.1.0 multidict-5.1.0 pytorch-lightning-1.1.7 yarl-1.6.3\n"
     ],
     "name": "stdout"
    }
   ]
  },
  {
   "cell_type": "markdown",
   "metadata": {
    "id": "6ma64s2tCABm"
   },
   "source": [
    "##**Import the required libraries**\n"
   ]
  },
  {
   "cell_type": "code",
   "metadata": {
    "pycharm": {
     "name": "#%%\n"
    },
    "id": "TLRnVMCqGfiU"
   },
   "source": [
    "import shap\n",
    "from preprocessing.grammar_preprocessing import custom_tokenizer,extract_phrases\n",
    "import torch\n",
    "import numpy as np\n",
    "device=torch.device('cuda' if torch.cuda.is_available() else 'cpu')\n",
    "from utils import util\n",
    "import dill\n",
    "import torchtext\n",
    "import nltk"
   ],
   "execution_count": null,
   "outputs": []
  },
  {
   "cell_type": "markdown",
   "metadata": {
    "id": "C_tRc7meCJWC"
   },
   "source": [
    "##**Load the model**\n",
    "Here we load the already trained model. We then create the explainers on this model."
   ]
  },
  {
   "cell_type": "code",
   "metadata": {
    "pycharm": {
     "name": "#%%\n"
    },
    "colab": {
     "base_uri": "https://localhost:8080/"
    },
    "id": "5KeKsJ8xGfiV",
    "outputId": "529acf83-cd3e-49f1-9035-e9248e74e7ad"
   },
   "source": [
    "model = util.load_model('/content/drive/MyDrive/biLstm_85.9.p')\n",
    "model.to(device)\n",
    "model.eval()"
   ],
   "execution_count": null,
   "outputs": [
    {
     "output_type": "execute_result",
     "data": {
      "text/plain": [
       "LSTMModel(\n",
       "  (embedding): Embedding(200002, 100, padding_idx=1)\n",
       "  (lstm): LSTM(100, 7, num_layers=2, dropout=0.1319029367577066, bidirectional=True)\n",
       "  (fc): Linear(in_features=14, out_features=1, bias=True)\n",
       "  (dropout): Dropout(p=0.1319029367577066, inplace=False)\n",
       "  (criterion): BCEWithLogitsLoss()\n",
       ")"
      ]
     },
     "metadata": {
      "tags": []
     },
     "execution_count": 8
    }
   ]
  },
  {
   "cell_type": "markdown",
   "metadata": {
    "id": "kma4ImKHCcD-"
   },
   "source": [
    "## **Load the data**\n",
    "The Kernelexplainer in the shap library nees background data. Hence we load the previously saved data."
   ]
  },
  {
   "cell_type": "code",
   "metadata": {
    "pycharm": {
     "name": "#%%\n"
    },
    "id": "LYANhdzmGfiW"
   },
   "source": [
    "with open(\"/content/data/vocab\",\"rb\")as f:\n",
    "     textField=dill.load(f)\n",
    "with open(\"/content/data/train_data\",\"rb\")as f:\n",
    "     train_data=dill.load(f)\n",
    "with open(\"/content/data/val_data\",\"rb\")as f:\n",
    "     val_data=dill.load(f)\n",
    "with open(\"/content/data/fields\",\"rb\")as f:\n",
    "     fields=dill.load(f)\n",
    "train_dataloaders = torchtext.data.BucketIterator(torchtext.data.Dataset(train_data,fields),\n",
    "                                                                             sort_key = lambda x: len(x.review), batch_size=64,\n",
    "                                                                             device=torch.device('cuda' if torch.cuda.is_available() else 'cpu'))"
   ],
   "execution_count": null,
   "outputs": []
  },
  {
   "cell_type": "markdown",
   "metadata": {
    "id": "JhOF25oICrn6"
   },
   "source": [
    "**Define a function that can predict the output of the model** <br/>\n",
    "We define a predict(), that can take a sentence as an input and then predict the sentiment. The same function will be used by the KernelExplainer while generating the explanations."
   ]
  },
  {
   "cell_type": "code",
   "metadata": {
    "pycharm": {
     "name": "#%%\n"
    },
    "id": "46uGTYzIGfiX"
   },
   "source": [
    "def predict(text):\n",
    "  with torch.no_grad():\n",
    "    if isinstance(text,str):\n",
    "      tokenized = custom_tokenizer(text)\n",
    "      print(tokenized)\n",
    "      indexed = [textField.vocab.stoi[t] for t in tokenized]\n",
    "      tensor = torch.from_numpy(np.array(indexed)).unsqueeze(1).to(device)\n",
    "    else:\n",
    "      text = text.T\n",
    "      indexed = text\n",
    "      tensor = torch.from_numpy(np.array(indexed)).to(device)\n",
    "\n",
    "    prediction_logits = model(tensor)\n",
    "    preds = -(prediction_logits)\n",
    "    return preds.squeeze(1).cpu().numpy()"
   ],
   "execution_count": null,
   "outputs": []
  },
  {
   "cell_type": "code",
   "metadata": {
    "pycharm": {
     "name": "#%%\n"
    },
    "id": "0SPjt3pHGfiY"
   },
   "source": [
    "sample = next(iter(train_dataloaders))\n",
    "background = sample.review\n",
    "background_numpy = background.cpu().numpy()"
   ],
   "execution_count": null,
   "outputs": []
  },
  {
   "cell_type": "markdown",
   "metadata": {
    "id": "sKCweXXJDSJJ"
   },
   "source": [
    "## **Generate the explainer for the model**\n",
    "Here we use the KernelExplainer to generate the explainer for our model. The explainer is then saved for future usage\n"
   ]
  },
  {
   "cell_type": "code",
   "metadata": {
    "pycharm": {
     "name": "#%%\n"
    },
    "colab": {
     "base_uri": "https://localhost:8080/"
    },
    "id": "LidoEdSzGfiZ",
    "outputId": "9de4e214-35d1-460c-f210-db6f683d2dea"
   },
   "source": [
    "explainer = shap.KernelExplainer(predict,background_numpy)"
   ],
   "execution_count": null,
   "outputs": [
    {
     "output_type": "stream",
     "text": [
      "Using 369 background data samples could cause slower run times. Consider using shap.sample(data, K) or shap.kmeans(data, K) to summarize the background as K samples.\n"
     ],
     "name": "stderr"
    }
   ]
  },
  {
   "cell_type": "code",
   "metadata": {
    "id": "5bHzep4TYxk_"
   },
   "source": [
    "with open(\"/content/background_data\",\"wb\")as f:\n",
    "     dill.dump(background_numpy,f)"
   ],
   "execution_count": null,
   "outputs": []
  },
  {
   "cell_type": "code",
   "metadata": {
    "id": "jZWYOqOUTl1K"
   },
   "source": [
    "with open(\"/content/explainer\",\"wb\")as f:\n",
    "     dill.dump(explainer,f)"
   ],
   "execution_count": null,
   "outputs": []
  },
  {
   "cell_type": "markdown",
   "metadata": {
    "id": "w1NH2pMmDqlW"
   },
   "source": [
    "**Shap values for the background data is generated**"
   ]
  },
  {
   "cell_type": "code",
   "metadata": {
    "pycharm": {
     "name": "#%%\n"
    },
    "colab": {
     "base_uri": "https://localhost:8080/",
     "height": 66,
     "referenced_widgets": [
      "427788c19f3447ada1ee76f422e717dd",
      "5b90541bcac24b51ba0908133392432b",
      "0b7a072961414655881c3536ed04577e",
      "28c13bdc835344d6bc884619cd225078",
      "3652b75747234a04a0fc7266fb5b7bab",
      "ab635aa1f25548339e30a82a436cc7a6",
      "fb20695c761d4a0f9919bf3e36c5ad0c",
      "381be98e03fc42b08140d42aacfc4745"
     ]
    },
    "id": "AOnUUM3iGfiZ",
    "outputId": "3e9074d9-1078-4610-ef48-d434437ef9ba"
   },
   "source": [
    "shap_values = explainer.shap_values(background_numpy,nsamples=150)"
   ],
   "execution_count": null,
   "outputs": [
    {
     "output_type": "display_data",
     "data": {
      "application/vnd.jupyter.widget-view+json": {
       "model_id": "427788c19f3447ada1ee76f422e717dd",
       "version_minor": 0,
       "version_major": 2
      },
      "text/plain": [
       "HBox(children=(FloatProgress(value=0.0, max=369.0), HTML(value='')))"
      ]
     },
     "metadata": {
      "tags": []
     }
    },
    {
     "output_type": "stream",
     "text": [
      "\n"
     ],
     "name": "stdout"
    }
   ]
  },
  {
   "cell_type": "code",
   "metadata": {
    "id": "of9ibG0nYV9P"
   },
   "source": [
    "with open(\"/content/shap_values\",\"wb\")as f:\n",
    "     dill.dump(shap_values,f)"
   ],
   "execution_count": null,
   "outputs": []
  }
 ]
}